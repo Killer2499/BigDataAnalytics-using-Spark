{
 "cells": [
  {
   "cell_type": "markdown",
   "metadata": {},
   "source": [
    "# Spark DataFrames Basic Operations"
   ]
  },
  {
   "cell_type": "code",
   "execution_count": 3,
   "metadata": {},
   "outputs": [],
   "source": [
    "import findspark\n",
    "findspark.init('/root/Desktop/spark-2.4.3-bin-hadoop2.7')\n",
    "from pyspark.sql import SparkSession"
   ]
  },
  {
   "cell_type": "code",
   "execution_count": 4,
   "metadata": {},
   "outputs": [],
   "source": [
    "spark=SparkSession.builder.appName('ops').getOrCreate()"
   ]
  },
  {
   "cell_type": "code",
   "execution_count": 5,
   "metadata": {},
   "outputs": [],
   "source": [
    "df=spark.read.csv('worldcup.csv',inferSchema=True,header=True)"
   ]
  },
  {
   "cell_type": "code",
   "execution_count": 6,
   "metadata": {},
   "outputs": [
    {
     "name": "stdout",
     "output_type": "stream",
     "text": [
      "root\n",
      " |-- _c0: integer (nullable = true)\n",
      " |-- Score: string (nullable = true)\n",
      " |-- Overs: double (nullable = true)\n",
      " |-- RPO: string (nullable = true)\n",
      " |-- Target: integer (nullable = true)\n",
      " |-- Inns: integer (nullable = true)\n",
      " |-- Result: string (nullable = true)\n",
      " |-- Opposition: string (nullable = true)\n",
      " |-- Ground: string (nullable = true)\n",
      " |-- Start Date: string (nullable = true)\n",
      " |-- Match_ID: string (nullable = true)\n",
      " |-- Country: string (nullable = true)\n",
      " |-- Country_ID: integer (nullable = true)\n",
      "\n"
     ]
    }
   ],
   "source": [
    "df.printSchema()"
   ]
  },
  {
   "cell_type": "code",
   "execution_count": 7,
   "metadata": {},
   "outputs": [
    {
     "name": "stdout",
     "output_type": "stream",
     "text": [
      "+----+-----+-----+----+------+----+------+--------------+---------+-----------+----------+-----------+----------+\n",
      "| _c0|Score|Overs| RPO|Target|Inns|Result|    Opposition|   Ground| Start Date|  Match_ID|    Country|Country_ID|\n",
      "+----+-----+-----+----+------+----+------+--------------+---------+-----------+----------+-----------+----------+\n",
      "| 412|  250| 48.3|5.15|  null|   1|   won|       v India|  Kolkata| 3 Jan 2013|ODI # 3315|   Pakistan|         7|\n",
      "| 680|  165| 48.0|3.43|   251|   2|  lost|    v Pakistan|  Kolkata| 3 Jan 2013|ODI # 3315|      India|         6|\n",
      "| 413|  157| 48.5|3.21|   168|   2|  lost|       v India|    Delhi| 6 Jan 2013|ODI # 3316|   Pakistan|         7|\n",
      "| 681|  167| 43.4|3.82|  null|   1|   won|    v Pakistan|    Delhi| 6 Jan 2013|ODI # 3316|      India|         6|\n",
      "| 117|  198| 40.0|4.95|   306|   2|  lost|   v Australia|Melbourne|11 Jan 2013|ODI # 3317|   SriLanka|         8|\n",
      "|1076|305/5| 50.0|6.10|  null|   1|   won|   v Sri Lanka|Melbourne|11 Jan 2013|ODI # 3317|  Australia|         2|\n",
      "| 682|316/9| 50.0|6.32|   326|   2|  lost|     v England|   Rajkot|11 Jan 2013|ODI # 3318|      India|         6|\n",
      "| 836|325/4| 50.0|6.50|  null|   1|   won|       v India|   Rajkot|11 Jan 2013|ODI # 3318|    England|         1|\n",
      "| 118|172/2| 40.1|4.28|   171|   2|   won|   v Australia| Adelaide|13 Jan 2013|ODI # 3319|   SriLanka|         8|\n",
      "|1077|  170| 46.5|3.62|  null|   1|  lost|   v Sri Lanka| Adelaide|13 Jan 2013|ODI # 3319|  Australia|         2|\n",
      "| 683|285/6| 50.0|5.70|  null|   1|   won|     v England|    Kochi|15 Jan 2013|ODI # 3320|      India|         6|\n",
      "| 837|  158| 36.0|4.38|   286|   2|  lost|       v India|    Kochi|15 Jan 2013|ODI # 3320|    England|         1|\n",
      "| 119| 75/6| 20.0|3.75|    75|   2|   won|   v Australia| Brisbane|18 Jan 2013|ODI # 3321|   SriLanka|         8|\n",
      "|1078|   74| 26.4|2.77|  null|   1|  lost|   v Sri Lanka| Brisbane|18 Jan 2013|ODI # 3321|  Australia|         2|\n",
      "| 684|157/3| 28.1|5.57|   156|   2|   won|     v England|   Ranchi|19 Jan 2013|ODI # 3322|      India|         6|\n",
      "| 838|  155| 42.2|3.66|  null|   1|  lost|       v India|   Ranchi|19 Jan 2013|ODI # 3322|    England|         1|\n",
      "| 277|  208| 46.2|4.48|  null|   1|  lost| v New Zealand|    Paarl|19 Jan 2013|ODI # 3323|SouthAfrica|         3|\n",
      "| 551|209/9| 45.4|4.57|   209|   2|   won|v South Africa|    Paarl|19 Jan 2013|ODI # 3323|  Newzealad|         5|\n",
      "| 120| 14/0|  3.2|4.20|   223|   2|   n/r|   v Australia|   Sydney|20 Jan 2013|ODI # 3324|   SriLanka|         8|\n",
      "|1079|222/9| 50.0|4.44|  null|   1|   n/r|   v Sri Lanka|   Sydney|20 Jan 2013|ODI # 3324|  Australia|         2|\n",
      "+----+-----+-----+----+------+----+------+--------------+---------+-----------+----------+-----------+----------+\n",
      "only showing top 20 rows\n",
      "\n"
     ]
    }
   ],
   "source": [
    "df.show()"
   ]
  },
  {
   "cell_type": "code",
   "execution_count": 9,
   "metadata": {},
   "outputs": [
    {
     "data": {
      "text/plain": [
       "Row(_c0=412, Score=u'250', Overs=48.3, RPO=u'5.15', Target=None, Inns=1, Result=u'won', Opposition=u'v India', Ground=u'Kolkata', Start Date=u'3 Jan 2013', Match_ID=u'ODI # 3315', Country=u'Pakistan', Country_ID=7)"
      ]
     },
     "execution_count": 9,
     "metadata": {},
     "output_type": "execute_result"
    }
   ],
   "source": [
    "df.head(3)[0]"
   ]
  },
  {
   "cell_type": "code",
   "execution_count": 10,
   "metadata": {},
   "outputs": [
    {
     "name": "stdout",
     "output_type": "stream",
     "text": [
      "+----+-----+-----+----+------+----+------+--------------+-------------+-----------+----------+-----------+----------+\n",
      "| _c0|Score|Overs| RPO|Target|Inns|Result|    Opposition|       Ground| Start Date|  Match_ID|    Country|Country_ID|\n",
      "+----+-----+-----+----+------+----+------+--------------+-------------+-----------+----------+-----------+----------+\n",
      "| 412|  250| 48.3|5.15|  null|   1|   won|       v India|      Kolkata| 3 Jan 2013|ODI # 3315|   Pakistan|         7|\n",
      "| 277|  208| 46.2|4.48|  null|   1|  lost| v New Zealand|        Paarl|19 Jan 2013|ODI # 3323|SouthAfrica|         3|\n",
      "| 278|  252| 49.1|5.12|   280|   2|  lost| v New Zealand|    Kimberley|22 Jan 2013|ODI # 3325|SouthAfrica|         3|\n",
      "| 121|  215| 48.3|4.43|   248|   2|  lost|   v Australia|       Hobart|23 Jan 2013|ODI # 3326|   SriLanka|         8|\n",
      "| 686|  226| 49.4|4.55|  null|   1|  lost|     v England|   Dharamsala|27 Jan 2013|ODI # 3329|      India|         6|\n",
      "|   2|  212| 38.1|5.55|   267|   2|  lost|   v Australia|        Perth| 3 Feb 2013|ODI # 3331| WestIndies|         4|\n",
      "|   3|  290| 47.3|6.10|   330|   2|  lost|   v Australia|     Canberra| 6 Feb 2013|ODI # 3332| WestIndies|         4|\n",
      "|   4|  220| 49.4|4.42|  null|   1|  lost|   v Australia|       Sydney| 8 Feb 2013|ODI # 3333| WestIndies|         4|\n",
      "|   5|  257| 49.5|5.15|   275|   2|  lost|   v Australia|    Melbourne|10 Feb 2013|ODI # 3334| WestIndies|         4|\n",
      "| 841|  258| 49.3|5.21|  null|   1|  lost| v New Zealand|     Hamilton|17 Feb 2013|ODI # 3335|    England|         1|\n",
      "| 555|  269| 48.5|5.50|  null|   1|  lost|     v England|       Napier|20 Feb 2013|ODI # 3336|  Newzealad|         5|\n",
      "| 416|  309| 48.1|6.41|   344|   2|  lost|v South Africa| Johannesburg|17 Mar 2013|ODI # 3347|   Pakistan|         7|\n",
      "| 418|  205| 49.1|4.16|  null|   1|  lost|v South Africa|       Benoni|24 Mar 2013|ODI # 3350|   Pakistan|         7|\n",
      "| 845|  273| 44.1|6.18|   360|   2|  lost| v New Zealand|  Southampton| 2 Jun 2013|ODI # 3361|    England|         1|\n",
      "| 559|  253| 46.3|5.44|   288|   2|  lost|     v England|   Nottingham| 5 Jun 2013|ODI # 3362|  Newzealad|         5|\n",
      "| 286|  305| 50.0|6.10|   332|   2|  lost|       v India|      Cardiff| 6 Jun 2013|ODI # 3363|SouthAfrica|         3|\n",
      "|1088|  233| 42.3|5.48|   254|   2|  lost|   v Sri Lanka|     The Oval|17 Jun 2013|ODI # 3374|  Australia|         2|\n",
      "| 129|  208| 48.3|4.28|  null|   1|  lost| v West Indies|     Kingston|28 Jun 2013|ODI # 3378|   SriLanka|         8|\n",
      "| 133|  201| 48.5|4.11|  null|   1|  lost|       v India|Port of Spain|11 Jul 2013|ODI # 3388|   SriLanka|         8|\n",
      "| 293|  238| 48.4|4.89|  null|   1|  lost|   v Sri Lanka|    Pallekele|28 Jul 2013|ODI # 3400|SouthAfrica|         3|\n",
      "+----+-----+-----+----+------+----+------+--------------+-------------+-----------+----------+-----------+----------+\n",
      "only showing top 20 rows\n",
      "\n"
     ]
    }
   ],
   "source": [
    "df.filter(\"Score>200\").show()"
   ]
  },
  {
   "cell_type": "code",
   "execution_count": 20,
   "metadata": {},
   "outputs": [],
   "source": [
    "#df.filter(\"Score>200\").select(\"_c0\").show()"
   ]
  },
  {
   "cell_type": "code",
   "execution_count": 22,
   "metadata": {},
   "outputs": [],
   "source": [
    "#df.filter( (df['Score']>200) & (df['RPO']>5) ).show() #For Multiple Filters"
   ]
  },
  {
   "cell_type": "code",
   "execution_count": 33,
   "metadata": {},
   "outputs": [
    {
     "name": "stdout",
     "output_type": "stream",
     "text": [
      "+----+-----+-----+----+------+----+------+-------------+----------+-----------+----------+-----------+----------+\n",
      "| _c0|Score|Overs| RPO|Target|Inns|Result|   Opposition|    Ground| Start Date|  Match_ID|    Country|Country_ID|\n",
      "+----+-----+-----+----+------+----+------+-------------+----------+-----------+----------+-----------+----------+\n",
      "| 412|  250| 48.3|5.15|  null|   1|   won|      v India|   Kolkata| 3 Jan 2013|ODI # 3315|   Pakistan|         7|\n",
      "| 463|  250| 43.1|5.79|   370|   2|  lost|v New Zealand|    Napier| 3 Feb 2015|ODI # 3598|   Pakistan|         7|\n",
      "|  49|  250| 30.3|8.19|   394|   2|  lost|v New Zealand|Wellington|21 Mar 2015|ODI # 3643| WestIndies|         4|\n",
      "| 471|  250| 45.2|5.51|   330|   2|  lost| v Bangladesh|     Dhaka|17 Apr 2015|ODI # 3647|   Pakistan|         7|\n",
      "| 473|  250| 49.0|5.10|  null|   1|  lost| v Bangladesh|     Dhaka|22 Apr 2015|ODI # 3649|   Pakistan|         7|\n",
      "|1247|  250| 49.2|5.06|  null|   1|   won|    v Ireland|   Belfast|12 Jul 2016|ODI # 3761|Afghanistan|        40|\n",
      "| 832|  250| 48.2|5.17|  null|   1|   won|  v Australia|    Nagpur| 5 Mar 2019|ODI # 4106|      India|         6|\n",
      "+----+-----+-----+----+------+----+------+-------------+----------+-----------+----------+-----------+----------+\n",
      "\n"
     ]
    }
   ],
   "source": [
    "df.filter(df['Score']==250).show()"
   ]
  },
  {
   "cell_type": "code",
   "execution_count": null,
   "metadata": {},
   "outputs": [],
   "source": [
    " "
   ]
  }
 ],
 "metadata": {
  "kernelspec": {
   "display_name": "Python 3",
   "language": "python",
   "name": "python3"
  },
  "language_info": {
   "codemirror_mode": {
    "name": "ipython",
    "version": 2
   },
   "file_extension": ".py",
   "mimetype": "text/x-python",
   "name": "python",
   "nbconvert_exporter": "python",
   "pygments_lexer": "ipython2",
   "version": "2.7.15"
  }
 },
 "nbformat": 4,
 "nbformat_minor": 2
}
