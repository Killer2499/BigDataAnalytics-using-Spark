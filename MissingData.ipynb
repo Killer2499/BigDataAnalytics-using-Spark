{
 "cells": [
  {
   "cell_type": "markdown",
   "metadata": {},
   "source": [
    "# Spark DataFrame Missing Data"
   ]
  },
  {
   "cell_type": "code",
   "execution_count": 1,
   "metadata": {},
   "outputs": [],
   "source": [
    "import findspark\n",
    "findspark.init('/root/Desktop/spark-2.4.3-bin-hadoop2.7')\n",
    "from pyspark.sql import SparkSession"
   ]
  },
  {
   "cell_type": "code",
   "execution_count": 3,
   "metadata": {},
   "outputs": [],
   "source": [
    "spark=SparkSession.builder.appName('miss').getOrCreate()"
   ]
  },
  {
   "cell_type": "code",
   "execution_count": 4,
   "metadata": {},
   "outputs": [],
   "source": [
    "df=spark.read.csv('worldcup.csv',header=True,inferSchema=True)"
   ]
  },
  {
   "cell_type": "code",
   "execution_count": 5,
   "metadata": {},
   "outputs": [
    {
     "name": "stdout",
     "output_type": "stream",
     "text": [
      "+----+-----+-----+----+------+----+------+--------------+---------+-----------+----------+-----------+----------+\n",
      "| _c0|Score|Overs| RPO|Target|Inns|Result|    Opposition|   Ground| Start Date|  Match_ID|    Country|Country_ID|\n",
      "+----+-----+-----+----+------+----+------+--------------+---------+-----------+----------+-----------+----------+\n",
      "| 412|  250| 48.3|5.15|  null|   1|   won|       v India|  Kolkata| 3 Jan 2013|ODI # 3315|   Pakistan|         7|\n",
      "| 680|  165| 48.0|3.43|   251|   2|  lost|    v Pakistan|  Kolkata| 3 Jan 2013|ODI # 3315|      India|         6|\n",
      "| 413|  157| 48.5|3.21|   168|   2|  lost|       v India|    Delhi| 6 Jan 2013|ODI # 3316|   Pakistan|         7|\n",
      "| 681|  167| 43.4|3.82|  null|   1|   won|    v Pakistan|    Delhi| 6 Jan 2013|ODI # 3316|      India|         6|\n",
      "| 117|  198| 40.0|4.95|   306|   2|  lost|   v Australia|Melbourne|11 Jan 2013|ODI # 3317|   SriLanka|         8|\n",
      "|1076|305/5| 50.0|6.10|  null|   1|   won|   v Sri Lanka|Melbourne|11 Jan 2013|ODI # 3317|  Australia|         2|\n",
      "| 682|316/9| 50.0|6.32|   326|   2|  lost|     v England|   Rajkot|11 Jan 2013|ODI # 3318|      India|         6|\n",
      "| 836|325/4| 50.0|6.50|  null|   1|   won|       v India|   Rajkot|11 Jan 2013|ODI # 3318|    England|         1|\n",
      "| 118|172/2| 40.1|4.28|   171|   2|   won|   v Australia| Adelaide|13 Jan 2013|ODI # 3319|   SriLanka|         8|\n",
      "|1077|  170| 46.5|3.62|  null|   1|  lost|   v Sri Lanka| Adelaide|13 Jan 2013|ODI # 3319|  Australia|         2|\n",
      "| 683|285/6| 50.0|5.70|  null|   1|   won|     v England|    Kochi|15 Jan 2013|ODI # 3320|      India|         6|\n",
      "| 837|  158| 36.0|4.38|   286|   2|  lost|       v India|    Kochi|15 Jan 2013|ODI # 3320|    England|         1|\n",
      "| 119| 75/6| 20.0|3.75|    75|   2|   won|   v Australia| Brisbane|18 Jan 2013|ODI # 3321|   SriLanka|         8|\n",
      "|1078|   74| 26.4|2.77|  null|   1|  lost|   v Sri Lanka| Brisbane|18 Jan 2013|ODI # 3321|  Australia|         2|\n",
      "| 684|157/3| 28.1|5.57|   156|   2|   won|     v England|   Ranchi|19 Jan 2013|ODI # 3322|      India|         6|\n",
      "| 838|  155| 42.2|3.66|  null|   1|  lost|       v India|   Ranchi|19 Jan 2013|ODI # 3322|    England|         1|\n",
      "| 277|  208| 46.2|4.48|  null|   1|  lost| v New Zealand|    Paarl|19 Jan 2013|ODI # 3323|SouthAfrica|         3|\n",
      "| 551|209/9| 45.4|4.57|   209|   2|   won|v South Africa|    Paarl|19 Jan 2013|ODI # 3323|  Newzealad|         5|\n",
      "| 120| 14/0|  3.2|4.20|   223|   2|   n/r|   v Australia|   Sydney|20 Jan 2013|ODI # 3324|   SriLanka|         8|\n",
      "|1079|222/9| 50.0|4.44|  null|   1|   n/r|   v Sri Lanka|   Sydney|20 Jan 2013|ODI # 3324|  Australia|         2|\n",
      "+----+-----+-----+----+------+----+------+--------------+---------+-----------+----------+-----------+----------+\n",
      "only showing top 20 rows\n",
      "\n"
     ]
    }
   ],
   "source": [
    "df.show()"
   ]
  },
  {
   "cell_type": "code",
   "execution_count": 9,
   "metadata": {},
   "outputs": [],
   "source": [
    "df.na.drop(thresh=2).show() Atleast 2 non-known values"
   ]
  },
  {
   "cell_type": "code",
   "execution_count": 10,
   "metadata": {},
   "outputs": [],
   "source": [
    "df.na.drop(how='all').show() how=any-default "
   ]
  },
  {
   "cell_type": "code",
   "execution_count": 11,
   "metadata": {},
   "outputs": [],
   "source": [
    "df.na.drop(subset=['Score']).show() #checks whether Score is null"
   ]
  },
  {
   "cell_type": "code",
   "execution_count": 13,
   "metadata": {},
   "outputs": [],
   "source": [
    "df.na.fill('FILL Value').show() Fills 'Fill Value' in Missing Data"
   ]
  },
  {
   "cell_type": "code",
   "execution_count": null,
   "metadata": {},
   "outputs": [],
   "source": []
  },
  {
   "cell_type": "code",
   "execution_count": null,
   "metadata": {},
   "outputs": [],
   "source": []
  },
  {
   "cell_type": "code",
   "execution_count": null,
   "metadata": {},
   "outputs": [],
   "source": []
  },
  {
   "cell_type": "code",
   "execution_count": null,
   "metadata": {},
   "outputs": [],
   "source": []
  }
 ],
 "metadata": {
  "kernelspec": {
   "display_name": "Python 3",
   "language": "python",
   "name": "python3"
  },
  "language_info": {
   "codemirror_mode": {
    "name": "ipython",
    "version": 2
   },
   "file_extension": ".py",
   "mimetype": "text/x-python",
   "name": "python",
   "nbconvert_exporter": "python",
   "pygments_lexer": "ipython2",
   "version": "2.7.15"
  }
 },
 "nbformat": 4,
 "nbformat_minor": 2
}
