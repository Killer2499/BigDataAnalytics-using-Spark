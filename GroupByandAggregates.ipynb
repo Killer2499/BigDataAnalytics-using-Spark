{
 "cells": [
  {
   "cell_type": "markdown",
   "metadata": {},
   "source": [
    "# GroupBy and Aggregate Functions"
   ]
  },
  {
   "cell_type": "code",
   "execution_count": 1,
   "metadata": {},
   "outputs": [],
   "source": [
    "import findspark\n",
    "findspark.init('/root/Desktop/spark-2.4.3-bin-hadoop2.7')\n",
    "from pyspark.sql import SparkSession"
   ]
  },
  {
   "cell_type": "code",
   "execution_count": 2,
   "metadata": {},
   "outputs": [],
   "source": [
    "spark=SparkSession.builder.appName('aggs').getOrCreate()"
   ]
  },
  {
   "cell_type": "code",
   "execution_count": 4,
   "metadata": {},
   "outputs": [],
   "source": [
    "df=spark.read.csv('worldcup.csv',inferSchema=True,header=True)"
   ]
  },
  {
   "cell_type": "code",
   "execution_count": 5,
   "metadata": {},
   "outputs": [
    {
     "name": "stdout",
     "output_type": "stream",
     "text": [
      "+----+-----+-----+----+------+----+------+--------------+---------+-----------+----------+-----------+----------+\n",
      "| _c0|Score|Overs| RPO|Target|Inns|Result|    Opposition|   Ground| Start Date|  Match_ID|    Country|Country_ID|\n",
      "+----+-----+-----+----+------+----+------+--------------+---------+-----------+----------+-----------+----------+\n",
      "| 412|  250| 48.3|5.15|  null|   1|   won|       v India|  Kolkata| 3 Jan 2013|ODI # 3315|   Pakistan|         7|\n",
      "| 680|  165| 48.0|3.43|   251|   2|  lost|    v Pakistan|  Kolkata| 3 Jan 2013|ODI # 3315|      India|         6|\n",
      "| 413|  157| 48.5|3.21|   168|   2|  lost|       v India|    Delhi| 6 Jan 2013|ODI # 3316|   Pakistan|         7|\n",
      "| 681|  167| 43.4|3.82|  null|   1|   won|    v Pakistan|    Delhi| 6 Jan 2013|ODI # 3316|      India|         6|\n",
      "| 117|  198| 40.0|4.95|   306|   2|  lost|   v Australia|Melbourne|11 Jan 2013|ODI # 3317|   SriLanka|         8|\n",
      "|1076|305/5| 50.0|6.10|  null|   1|   won|   v Sri Lanka|Melbourne|11 Jan 2013|ODI # 3317|  Australia|         2|\n",
      "| 682|316/9| 50.0|6.32|   326|   2|  lost|     v England|   Rajkot|11 Jan 2013|ODI # 3318|      India|         6|\n",
      "| 836|325/4| 50.0|6.50|  null|   1|   won|       v India|   Rajkot|11 Jan 2013|ODI # 3318|    England|         1|\n",
      "| 118|172/2| 40.1|4.28|   171|   2|   won|   v Australia| Adelaide|13 Jan 2013|ODI # 3319|   SriLanka|         8|\n",
      "|1077|  170| 46.5|3.62|  null|   1|  lost|   v Sri Lanka| Adelaide|13 Jan 2013|ODI # 3319|  Australia|         2|\n",
      "| 683|285/6| 50.0|5.70|  null|   1|   won|     v England|    Kochi|15 Jan 2013|ODI # 3320|      India|         6|\n",
      "| 837|  158| 36.0|4.38|   286|   2|  lost|       v India|    Kochi|15 Jan 2013|ODI # 3320|    England|         1|\n",
      "| 119| 75/6| 20.0|3.75|    75|   2|   won|   v Australia| Brisbane|18 Jan 2013|ODI # 3321|   SriLanka|         8|\n",
      "|1078|   74| 26.4|2.77|  null|   1|  lost|   v Sri Lanka| Brisbane|18 Jan 2013|ODI # 3321|  Australia|         2|\n",
      "| 684|157/3| 28.1|5.57|   156|   2|   won|     v England|   Ranchi|19 Jan 2013|ODI # 3322|      India|         6|\n",
      "| 838|  155| 42.2|3.66|  null|   1|  lost|       v India|   Ranchi|19 Jan 2013|ODI # 3322|    England|         1|\n",
      "| 277|  208| 46.2|4.48|  null|   1|  lost| v New Zealand|    Paarl|19 Jan 2013|ODI # 3323|SouthAfrica|         3|\n",
      "| 551|209/9| 45.4|4.57|   209|   2|   won|v South Africa|    Paarl|19 Jan 2013|ODI # 3323|  Newzealad|         5|\n",
      "| 120| 14/0|  3.2|4.20|   223|   2|   n/r|   v Australia|   Sydney|20 Jan 2013|ODI # 3324|   SriLanka|         8|\n",
      "|1079|222/9| 50.0|4.44|  null|   1|   n/r|   v Sri Lanka|   Sydney|20 Jan 2013|ODI # 3324|  Australia|         2|\n",
      "+----+-----+-----+----+------+----+------+--------------+---------+-----------+----------+-----------+----------+\n",
      "only showing top 20 rows\n",
      "\n"
     ]
    }
   ],
   "source": [
    "df.show()"
   ]
  },
  {
   "cell_type": "code",
   "execution_count": 6,
   "metadata": {},
   "outputs": [
    {
     "name": "stdout",
     "output_type": "stream",
     "text": [
      "root\n",
      " |-- _c0: integer (nullable = true)\n",
      " |-- Score: string (nullable = true)\n",
      " |-- Overs: double (nullable = true)\n",
      " |-- RPO: string (nullable = true)\n",
      " |-- Target: integer (nullable = true)\n",
      " |-- Inns: integer (nullable = true)\n",
      " |-- Result: string (nullable = true)\n",
      " |-- Opposition: string (nullable = true)\n",
      " |-- Ground: string (nullable = true)\n",
      " |-- Start Date: string (nullable = true)\n",
      " |-- Match_ID: string (nullable = true)\n",
      " |-- Country: string (nullable = true)\n",
      " |-- Country_ID: integer (nullable = true)\n",
      "\n"
     ]
    }
   ],
   "source": [
    "df.printSchema()"
   ]
  },
  {
   "cell_type": "code",
   "execution_count": 7,
   "metadata": {},
   "outputs": [
    {
     "data": {
      "text/plain": [
       "<pyspark.sql.group.GroupedData at 0x7ff4640bd150>"
      ]
     },
     "execution_count": 7,
     "metadata": {},
     "output_type": "execute_result"
    }
   ],
   "source": [
    "df.groupBy(\"Country\")"
   ]
  },
  {
   "cell_type": "code",
   "execution_count": 9,
   "metadata": {},
   "outputs": [
    {
     "name": "stdout",
     "output_type": "stream",
     "text": [
      "+-----------+-----+\n",
      "|    Country|count|\n",
      "+-----------+-----+\n",
      "|Afghanistan|   90|\n",
      "|      India|  156|\n",
      "| Bangladesh|   95|\n",
      "|SouthAfrica|  135|\n",
      "| WestIndies|  116|\n",
      "|  Newzealad|  129|\n",
      "|    England|  145|\n",
      "|  Australia|  131|\n",
      "|   Pakistan|  139|\n",
      "|   SriLanka|  160|\n",
      "+-----------+-----+\n",
      "\n"
     ]
    }
   ],
   "source": [
    "df.groupBy(\"Country\").count().show()"
   ]
  },
  {
   "cell_type": "code",
   "execution_count": 14,
   "metadata": {},
   "outputs": [
    {
     "name": "stdout",
     "output_type": "stream",
     "text": [
      "+----------+\n",
      "|sum(Score)|\n",
      "+----------+\n",
      "|   82956.0|\n",
      "+----------+\n",
      "\n"
     ]
    }
   ],
   "source": [
    "df.agg({'Score':'sum'}).show()\n"
   ]
  },
  {
   "cell_type": "code",
   "execution_count": 15,
   "metadata": {},
   "outputs": [],
   "source": [
    "group_data=df.groupby('Country')"
   ]
  },
  {
   "cell_type": "code",
   "execution_count": 17,
   "metadata": {},
   "outputs": [
    {
     "name": "stdout",
     "output_type": "stream",
     "text": [
      "+-----------+------------+\n",
      "|    Country|count(Score)|\n",
      "+-----------+------------+\n",
      "|Afghanistan|          90|\n",
      "|      India|         156|\n",
      "| Bangladesh|          95|\n",
      "|SouthAfrica|         135|\n",
      "| WestIndies|         116|\n",
      "|  Newzealad|         129|\n",
      "|    England|         145|\n",
      "|  Australia|         131|\n",
      "|   Pakistan|         139|\n",
      "|   SriLanka|         160|\n",
      "+-----------+------------+\n",
      "\n"
     ]
    }
   ],
   "source": [
    "group_data.agg({'Score':'count'}).show()"
   ]
  },
  {
   "cell_type": "code",
   "execution_count": 18,
   "metadata": {},
   "outputs": [],
   "source": [
    "from pyspark.sql.functions import countDistinct,avg,stddev"
   ]
  },
  {
   "cell_type": "code",
   "execution_count": 19,
   "metadata": {},
   "outputs": [
    {
     "name": "stdout",
     "output_type": "stream",
     "text": [
      "+---------------------+\n",
      "|count(DISTINCT Score)|\n",
      "+---------------------+\n",
      "|                  864|\n",
      "+---------------------+\n",
      "\n"
     ]
    }
   ],
   "source": [
    "df.select(countDistinct('Score')).show()"
   ]
  },
  {
   "cell_type": "code",
   "execution_count": 21,
   "metadata": {},
   "outputs": [
    {
     "name": "stdout",
     "output_type": "stream",
     "text": [
      "+------------------+\n",
      "|     Average Score|\n",
      "+------------------+\n",
      "|208.95717884130983|\n",
      "+------------------+\n",
      "\n"
     ]
    }
   ],
   "source": [
    "df.select(avg('Score').alias('Average Score')).show()"
   ]
  },
  {
   "cell_type": "code",
   "execution_count": 31,
   "metadata": {},
   "outputs": [
    {
     "name": "stdout",
     "output_type": "stream",
     "text": [
      "+------------------+\n",
      "|stddev_samp(Score)|\n",
      "+------------------+\n",
      "| 55.60621540818044|\n",
      "+------------------+\n",
      "\n"
     ]
    }
   ],
   "source": [
    "df.select(stddev('Score')).show()"
   ]
  },
  {
   "cell_type": "code",
   "execution_count": 24,
   "metadata": {},
   "outputs": [],
   "source": [
    "from pyspark.sql.functions import format_number"
   ]
  },
  {
   "cell_type": "code",
   "execution_count": 29,
   "metadata": {},
   "outputs": [],
   "source": [
    "score_std=df.select(stddev('Score').alias('std'))"
   ]
  },
  {
   "cell_type": "code",
   "execution_count": 32,
   "metadata": {},
   "outputs": [
    {
     "name": "stdout",
     "output_type": "stream",
     "text": [
      "+-----+\n",
      "|  std|\n",
      "+-----+\n",
      "|55.61|\n",
      "+-----+\n",
      "\n"
     ]
    }
   ],
   "source": [
    "score_std.select(format_number('std',2).alias('std')).show()"
   ]
  },
  {
   "cell_type": "code",
   "execution_count": 35,
   "metadata": {},
   "outputs": [
    {
     "name": "stdout",
     "output_type": "stream",
     "text": [
      "+----+-----+-----+----+------+----+------+------------+------------+-----------+----------+-----------+----------+\n",
      "| _c0|Score|Overs| RPO|Target|Inns|Result|  Opposition|      Ground| Start Date|  Match_ID|    Country|Country_ID|\n",
      "+----+-----+-----+----+------+----+------+------------+------------+-----------+----------+-----------+----------+\n",
      "|1216|302/5| 50.0|6.04|  null|   1|   won|    v U.A.E.|Kuala Lumpur| 2 May 2014|ODI # 3488|Afghanistan|        40|\n",
      "|1236|271/6| 50.0|5.42|  null|   1|   won|  v Zimbabwe|    Bulawayo|18 Oct 2015|ODI # 3694|Afghanistan|        40|\n",
      "|1217|223/9| 50.0|4.46|  null|   1|  lost|  v Zimbabwe|    Bulawayo|18 Jul 2014|ODI # 3503|Afghanistan|        40|\n",
      "|1207|203/3| 33.5|6.00|   200|   2|   won|  v Scotland|     Sharjah| 6 Mar 2013|ODI # 3341|Afghanistan|        40|\n",
      "|1218|256/7| 50.0|5.12|  null|   1|  lost|  v Zimbabwe|    Bulawayo|20 Jul 2014|ODI # 3504|Afghanistan|        40|\n",
      "|1209| 95/2| 17.5|5.32|    90|   2|   won|     v Kenya|     Sharjah| 2 Oct 2013|ODI # 3417|Afghanistan|        40|\n",
      "|1219|264/8| 49.4|5.31|   262|   2|   won|  v Zimbabwe|    Bulawayo|22 Jul 2014|ODI # 3505|Afghanistan|        40|\n",
      "|1211|  176| 47.2|3.71|   249|   2|  lost|  v Pakistan|    Fatullah|27 Feb 2014|ODI # 3475|Afghanistan|        40|\n",
      "|1220|  259| 49.1|5.26|  null|   1|   won|  v Zimbabwe|    Bulawayo|24 Jul 2014|ODI # 3506|Afghanistan|        40|\n",
      "|1213|  124| 38.4|3.20|   254|   2|  lost| v Sri Lanka|       Dhaka| 3 Mar 2014|ODI # 3481|Afghanistan|        40|\n",
      "|1221|248/6| 50.0|4.96|  null|   1|  lost|    v U.A.E.|  ICCA Dubai|28 Nov 2014|ODI # 3556|Afghanistan|        40|\n",
      "|1226|  180| 44.2|4.06|  null|   1|  lost|   v Ireland| Dubai (DSC)|10 Jan 2015|ODI # 3573|Afghanistan|        40|\n",
      "|1227|   63| 18.3|3.40|   214|   2|  lost|  v Scotland|   Abu Dhabi|14 Jan 2015|ODI # 3576|Afghanistan|        40|\n",
      "|1208|261/5| 48.4|5.36|   260|   2|   won|  v Scotland|     Sharjah| 8 Mar 2013|ODI # 3342|Afghanistan|        40|\n",
      "|1228|246/8| 50.0|4.92|  null|   1|   won|   v Ireland| Dubai (DSC)|17 Jan 2015|ODI # 3581|Afghanistan|        40|\n",
      "|1210| 96/3| 20.5|4.60|    94|   2|   won|     v Kenya|     Sharjah| 4 Oct 2013|ODI # 3418|Afghanistan|        40|\n",
      "|1229|  162| 42.5|3.78|   268|   2|  lost|v Bangladesh|    Canberra|18 Feb 2015|ODI # 3605|Afghanistan|        40|\n",
      "|1214|  159| 45.2|3.50|  null|   1|  lost|     v India|       Dhaka| 5 Mar 2014|ODI # 3483|Afghanistan|        40|\n",
      "|1230|  232| 49.4|4.67|  null|   1|  lost| v Sri Lanka|     Dunedin|22 Feb 2015|ODI # 3609|Afghanistan|        40|\n",
      "|1223|276/8| 49.4|5.55|   274|   2|   won|    v U.A.E.|  ICCA Dubai| 2 Dec 2014|ODI # 3560|Afghanistan|        40|\n",
      "+----+-----+-----+----+------+----+------+------------+------------+-----------+----------+-----------+----------+\n",
      "only showing top 20 rows\n",
      "\n"
     ]
    }
   ],
   "source": [
    "df.orderBy('Country').show()"
   ]
  },
  {
   "cell_type": "code",
   "execution_count": 36,
   "metadata": {},
   "outputs": [
    {
     "name": "stdout",
     "output_type": "stream",
     "text": [
      "+---+-----+-----+----+------+----+------+--------------+-------------+-----------+----------+----------+----------+\n",
      "|_c0|Score|Overs| RPO|Target|Inns|Result|    Opposition|       Ground| Start Date|  Match_ID|   Country|Country_ID|\n",
      "+---+-----+-----+----+------+----+------+--------------+-------------+-----------+----------+----------+----------+\n",
      "| 20|242/7| 50.0|4.84|  null|   1|  lost|    v Pakistan|   Gros Islet|24 Jul 2013|ODI # 3396|WestIndies|         4|\n",
      "| 40|  122| 33.4|3.62|  null|   1|  lost|v South Africa|  East London|21 Jan 2015|ODI # 3587|WestIndies|         4|\n",
      "| 21|  211| 48.5|4.32|  null|   1|  lost|       v India|        Kochi|21 Nov 2013|ODI # 3436|WestIndies|         4|\n",
      "|  5|  257| 49.5|5.15|   275|   2|  lost|   v Australia|    Melbourne|10 Feb 2013|ODI # 3334|WestIndies|         4|\n",
      "| 22|289/8| 49.3|5.83|   289|   2|   won|       v India|Visakhapatnam|24 Nov 2013|ODI # 3437|WestIndies|         4|\n",
      "|  6|337/4| 50.0|6.74|  null|   1|   won|    v Zimbabwe|  St George's|22 Feb 2013|ODI # 3337|WestIndies|         4|\n",
      "| 23|263/5| 50.0|5.26|  null|   1|  lost|       v India|       Kanpur|27 Nov 2013|ODI # 3439|WestIndies|         4|\n",
      "|  1|   70| 23.5|2.93|  null|   1|  lost|   v Australia|        Perth| 1 Feb 2013|ODI # 3330|WestIndies|         4|\n",
      "| 24|157/8| 27.3|5.70|   157|   2|   won| v New Zealand|     Auckland|26 Dec 2013|ODI # 3449|WestIndies|         4|\n",
      "|  3|  290| 47.3|6.10|   330|   2|  lost|   v Australia|     Canberra| 6 Feb 2013|ODI # 3332|WestIndies|         4|\n",
      "| 25|124/5| 21.0|5.90|   284|   2|  lost| v New Zealand|   Queenstown| 1 Jan 2014|ODI # 3451|WestIndies|         4|\n",
      "| 10|233/9| 50.0|4.66|  null|   1|  lost|       v India|     The Oval|11 Jun 2013|ODI # 3368|WestIndies|         4|\n",
      "| 26|134/5| 33.4|3.98|   193|   2|  lost| v New Zealand|       Nelson| 4 Jan 2014|ODI # 3452|WestIndies|         4|\n",
      "| 12|209/4| 37.5|5.52|   209|   2|   won|   v Sri Lanka|     Kingston|28 Jun 2013|ODI # 3378|WestIndies|         4|\n",
      "| 27|363/4| 50.0|7.26|  null|   1|   won| v New Zealand|     Hamilton| 8 Jan 2014|ODI # 3453|WestIndies|         4|\n",
      "| 14|  171| 34.0|5.02|   274|   2|  lost|       v India|Port of Spain| 5 Jul 2013|ODI # 3383|WestIndies|         4|\n",
      "| 28|205/6| 36.4|5.59|   203|   2|   won|     v Ireland|     Kingston|23 Feb 2014|ODI # 3472|WestIndies|         4|\n",
      "| 16|   98| 41.0|2.39|   225|   2|  lost|    v Pakistan|   Providence|14 Jul 2013|ODI # 3389|WestIndies|         4|\n",
      "| 29|269/6| 50.0|5.38|  null|   1|   won|     v England|  North Sound|28 Feb 2014|ODI # 3477|WestIndies|         4|\n",
      "| 18|229/9| 50.0|4.58|   230|   2|  tied|    v Pakistan|   Gros Islet|19 Jul 2013|ODI # 3391|WestIndies|         4|\n",
      "+---+-----+-----+----+------+----+------+--------------+-------------+-----------+----------+----------+----------+\n",
      "only showing top 20 rows\n",
      "\n"
     ]
    }
   ],
   "source": [
    "df.orderBy(df['Country'].desc()).show()"
   ]
  },
  {
   "cell_type": "code",
   "execution_count": null,
   "metadata": {},
   "outputs": [],
   "source": []
  }
 ],
 "metadata": {
  "kernelspec": {
   "display_name": "Python 3",
   "language": "python",
   "name": "python3"
  },
  "language_info": {
   "codemirror_mode": {
    "name": "ipython",
    "version": 2
   },
   "file_extension": ".py",
   "mimetype": "text/x-python",
   "name": "python",
   "nbconvert_exporter": "python",
   "pygments_lexer": "ipython2",
   "version": "2.7.15"
  }
 },
 "nbformat": 4,
 "nbformat_minor": 2
}
